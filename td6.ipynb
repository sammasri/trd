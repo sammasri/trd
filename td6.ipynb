{
  "nbformat": 4,
  "nbformat_minor": 0,
  "metadata": {
    "colab": {
      "name": "TD",
      "provenance": [],
      "collapsed_sections": []
    },
    "kernelspec": {
      "name": "python3",
      "display_name": "Python 3"
    },
    "language_info": {
      "name": "python"
    },
    "gpuClass": "standard"
  },
  "cells": [
    {
      "cell_type": "markdown",
      "source": [
        "###Chcek notebook's internet speed"
      ],
      "metadata": {
        "id": "_wdxcVgUPE4o"
      }
    },
    {
      "cell_type": "code",
      "source": [
        "!sudo apt install speedtest-cli\n",
        "!speedtest-cli"
      ],
      "metadata": {
        "id": "6mYSH1yDOwvw"
      },
      "execution_count": null,
      "outputs": []
    },
    {
      "cell_type": "markdown",
      "source": [
        "###Time out preventer\n",
        "\n",
        "Run this code to prevent Notebook Timeout"
      ],
      "metadata": {
        "id": "8EDXQk1XShjt"
      }
    },
    {
      "cell_type": "code",
      "source": [
        "from os import makedirs\n",
        "makedirs(\"/root/.config/rclone\", exist_ok = True)\n",
        "import IPython\n",
        "from google.colab import output\n",
        "\n",
        "display(IPython.display.Javascript('''\n",
        "function ClickConnect(){\n",
        "  btn = document.querySelector(\"colab-connect-button\")\n",
        "  if (btn != null){\n",
        "    console.log(\"Click colab-connect-button\"); \n",
        "    btn.click() \n",
        "    }\n",
        "    \n",
        "    btn = document.getElementById('ok')\n",
        "    if (btn != null){\n",
        "    console.log(\"Click reconnect\"); \n",
        "    btn.click() \n",
        "    }\n",
        "  }\n",
        "  \n",
        "setInterval(ClickConnect,60000)\n",
        "'''))"
      ],
      "metadata": {
        "id": "j6EhQ1CkSdPt",
        "colab": {
          "base_uri": "https://localhost:8080/",
          "height": 17
        },
        "outputId": "7f3f3847-2f56-4d92-9a89-60318912d592"
      },
      "execution_count": 1,
      "outputs": [
        {
          "output_type": "display_data",
          "data": {
            "text/plain": [
              "<IPython.core.display.Javascript object>"
            ],
            "application/javascript": [
              "\n",
              "function ClickConnect(){\n",
              "  btn = document.querySelector(\"colab-connect-button\")\n",
              "  if (btn != null){\n",
              "    console.log(\"Click colab-connect-button\"); \n",
              "    btn.click() \n",
              "    }\n",
              "    \n",
              "    btn = document.getElementById('ok')\n",
              "    if (btn != null){\n",
              "    console.log(\"Click reconnect\"); \n",
              "    btn.click() \n",
              "    }\n",
              "  }\n",
              "  \n",
              "setInterval(ClickConnect,60000)\n"
            ]
          },
          "metadata": {}
        }
      ]
    },
    {
      "cell_type": "markdown",
      "source": [
        "### Start session"
      ],
      "metadata": {
        "id": "HND7kaQzWkQB"
      }
    },
    {
      "cell_type": "code",
      "metadata": {
        "id": "yIGiiJQUjjmn"
      },
      "source": [
        "\n",
        "!python -m pip install --upgrade pip setuptools wheel\n",
        "!python -m pip install lbry-libtorrent\n",
        "\n",
        "!apt install python3-libtorrent\n",
        "\n",
        "import libtorrent as lt\n",
        "\n",
        "ses = lt.session()\n",
        "ses.listen_on(6881, 6891)\n",
        "\n",
        "sett = {'allow_multiple_connections_per_ip': True,\n",
        "  'active_downloads': -1}\n",
        "\n",
        "ses.apply_settings(sett)\n",
        "\n",
        "downloads = []"
      ],
      "execution_count": null,
      "outputs": []
    },
    {
      "cell_type": "markdown",
      "source": [
        "###Mount drive"
      ],
      "metadata": {
        "id": "uE2KJ6ADS3VK"
      }
    },
    {
      "cell_type": "code",
      "metadata": {
        "id": "X-rr26MmkDE6",
        "colab": {
          "base_uri": "https://localhost:8080/"
        },
        "outputId": "ae2d5e15-063e-4102-eb4f-175337b054f3"
      },
      "source": [
        "from google.colab import drive\n",
        "drive.mount('/content/drive')"
      ],
      "execution_count": 3,
      "outputs": [
        {
          "output_type": "stream",
          "name": "stdout",
          "text": [
            "Mounted at /content/drive\n"
          ]
        }
      ]
    },
    {
      "cell_type": "markdown",
      "source": [
        "###Add torrent file"
      ],
      "metadata": {
        "id": "-niGR4b7S9TV"
      }
    },
    {
      "cell_type": "code",
      "metadata": {
        "id": "9SdZSEQSkM3h"
      },
      "source": [
        "from google.colab import files\n",
        "\n",
        "source = files.upload()\n",
        "params = {\n",
        "    \"save_path\": \"/content/drive/My Drive/Library/Downloads\",\n",
        "    \"ti\": lt.torrent_info(list(source.keys())[0]),\n",
        "}\n",
        "downloads.append(ses.add_torrent(params))"
      ],
      "execution_count": null,
      "outputs": []
    },
    {
      "cell_type": "markdown",
      "source": [
        "###Add torrent magnet"
      ],
      "metadata": {
        "id": "M7uyOw8GTETM"
      }
    },
    {
      "cell_type": "code",
      "metadata": {
        "id": "_PROFBfIkSCB"
      },
      "source": [
        "params = {\"save_path\": \"/content/drive/My Drive/Library/Downloads\"}\n",
        "magnet_link = \"\"\n",
        "handle=\"\"\n",
        "while True:\n",
        "    magnet_link = input(\"Enter Magnet Link Or Type Exit: \")\n",
        "    if magnet_link.lower() == \"exit\":\n",
        "        break\n",
        "    handle = lt.add_magnet_uri(ses, magnet_link, params)\n",
        "    downloads.append(\n",
        "        handle\n",
        "    )"
      ],
      "execution_count": null,
      "outputs": []
    },
    {
      "cell_type": "markdown",
      "source": [
        "###Choose files with index"
      ],
      "metadata": {
        "id": "3-0r9P18lUKJ"
      }
    },
    {
      "cell_type": "code",
      "source": [
        "#Choose files\n",
        "\n",
        "\n",
        "while (not handle.has_metadata()):\n",
        "    time.sleep(1)\n",
        "\n",
        "handle.pause () # got meta data paused, and set priority\n",
        "time.sleep(1)\n",
        "\n",
        "#i checked no files written into disk yet.\n",
        "\n",
        "\n"
      ],
      "metadata": {
        "id": "owoDrSdTlavJ"
      },
      "execution_count": null,
      "outputs": []
    },
    {
      "cell_type": "code",
      "source": [
        "priorities = handle.file_priorities()\n",
        "for index, file in enumerate(priorities[:]):\n",
        "  if index < 44:\n",
        "    handle.file_priority(index,4)\n",
        "  else:\n",
        "    handle.file_priority(index,0)\n",
        "\n",
        "handle.file_priority(0,0)\n",
        "\n"
      ],
      "metadata": {
        "id": "dF-uk7N2t3J1"
      },
      "execution_count": 9,
      "outputs": []
    },
    {
      "cell_type": "code",
      "source": [
        "print(handle.file_priorities())\n"
      ],
      "metadata": {
        "id": "5wz6Sv6zuNk9"
      },
      "execution_count": null,
      "outputs": []
    },
    {
      "cell_type": "markdown",
      "source": [
        "###Start Torrent"
      ],
      "metadata": {
        "id": "exS1557dTHRP"
      }
    },
    {
      "cell_type": "code",
      "metadata": {
        "id": "33_Y7nsskXeF"
      },
      "source": [
        "import time\n",
        "from IPython.display import display\n",
        "import ipywidgets as widgets\n",
        "\n",
        "#handle.resume()\n",
        "\n",
        "state_str = [\n",
        "    \"queued\",\n",
        "    \"checking\",\n",
        "    \"downloading metadata\",\n",
        "    \"downloading\",\n",
        "    \"finished\",\n",
        "    \"seeding\",\n",
        "    \"allocating\",\n",
        "    \"checking fastresume\",\n",
        "]\n",
        "\n",
        "layout = widgets.Layout(width=\"auto\")\n",
        "style = {\"description_width\": \"initial\"}\n",
        "download_bars = [\n",
        "    widgets.FloatSlider(\n",
        "        step=0.01, disabled=True, layout=layout, style=style\n",
        "    )\n",
        "    for _ in downloads\n",
        "]\n",
        "display(*download_bars)\n",
        "\n",
        "while downloads:\n",
        "    next_shift = 0\n",
        "    for index, download in enumerate(downloads[:]):\n",
        "        bar = download_bars[index + next_shift]\n",
        "        if not download.is_seed():\n",
        "            s = download.status()\n",
        "\n",
        "            bar.description = \" \".join(\n",
        "                [\n",
        "                    download.name(),\n",
        "                    str(s.download_rate / 1000),\n",
        "                    \"kB/s\",\n",
        "                    state_str[s.state],\n",
        "                ]\n",
        "            )\n",
        "            bar.value = s.progress * 100\n",
        "        else:\n",
        "            next_shift -= 1\n",
        "            ses.remove_torrent(download)\n",
        "            downloads.remove(download)\n",
        "            bar.close() # Seems to be not working in Colab (see https://github.com/googlecolab/colabtools/issues/726#issue-486731758)\n",
        "            download_bars.remove(bar)\n",
        "            print(download.name(), \"complete\")\n",
        "    time.sleep(1)"
      ],
      "execution_count": null,
      "outputs": []
    },
    {
      "cell_type": "markdown",
      "source": [
        "###Clear downloads"
      ],
      "metadata": {
        "id": "R7tOt6_RlmWq"
      }
    },
    {
      "cell_type": "code",
      "source": [
        "downloads.clear()"
      ],
      "metadata": {
        "id": "hSYwuqx9lp1_"
      },
      "execution_count": 18,
      "outputs": []
    }
  ]
}