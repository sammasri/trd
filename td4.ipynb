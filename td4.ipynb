{
  "cells": [
    {
      "cell_type": "code",
      "execution_count": null,
      "metadata": {
        "colab_type": "text",
        "id": "view-in-github",
        "vscode": {
          "languageId": "plaintext"
        }
      },
      "outputs": [],
      "source": [
        "<a href=\"https://colab.research.google.com/github/emasri/trd/blob/master/td4.ipynb\" target=\"_parent\"><img src=\"https://colab.research.google.com/assets/colab-badge.svg\" alt=\"Open In Colab\"/></a>"
      ]
    },
    {
      "cell_type": "markdown",
      "metadata": {
        "id": "_wdxcVgUPE4o"
      },
      "source": [
        "###Internet speed"
      ]
    },
    {
      "cell_type": "code",
      "execution_count": null,
      "metadata": {
        "cellView": "form",
        "id": "6mYSH1yDOwvw"
      },
      "outputs": [],
      "source": [
        "#@markdown\n",
        "\n",
        "!sudo apt install speedtest-cli\n",
        "!speedtest-cli"
      ]
    },
    {
      "cell_type": "markdown",
      "metadata": {
        "id": "8EDXQk1XShjt"
      },
      "source": [
        "###Time out preventer"
      ]
    },
    {
      "cell_type": "code",
      "execution_count": null,
      "metadata": {
        "cellView": "form",
        "id": "j6EhQ1CkSdPt"
      },
      "outputs": [],
      "source": [
        "#@markdown\n",
        "\n",
        "#from os import makedirs\n",
        "#makedirs(\"/root/.config/rclone\", exist_ok = True)\n",
        "import IPython\n",
        "from google.colab import output\n",
        "\n",
        "display(IPython.display.Javascript('''\n",
        "function ClickConnect(){\n",
        "  btn = document.querySelector(\"colab-connect-button\")\n",
        "  if (btn != null){\n",
        "    console.log(\"Click colab-connect-button\"); \n",
        "    btn.click() \n",
        "    }\n",
        "    \n",
        "    btn = document.getElementById('ok')\n",
        "    if (btn != null){\n",
        "    console.log(\"Click reconnect\"); \n",
        "    btn.click() \n",
        "    }\n",
        "  }\n",
        "  \n",
        "setInterval(ClickConnect,60000)\n",
        "'''))"
      ]
    },
    {
      "cell_type": "markdown",
      "metadata": {
        "id": "HND7kaQzWkQB"
      },
      "source": [
        "### Start session"
      ]
    },
    {
      "cell_type": "code",
      "execution_count": null,
      "metadata": {
        "cellView": "form",
        "id": "yIGiiJQUjjmn"
      },
      "outputs": [],
      "source": [
        "#@markdown\n",
        "\n",
        "\n",
        "!python -m pip install --upgrade pip setuptools wheel\n",
        "!python -m pip install lbry-libtorrent\n",
        "\n",
        "!apt install python3-libtorrent\n",
        "\n",
        "import libtorrent as lt\n",
        "\n",
        "ses = lt.session()\n",
        "ses.listen_on(6881, 6891)\n",
        "\n",
        "sett = {'allow_multiple_connections_per_ip': True,\n",
        "  'active_downloads': -1}\n",
        "\n",
        "ses.apply_settings(sett)\n",
        "\n",
        "downloads = []\n",
        "\n",
        "ByteToGB = lambda s: RoundTo1(s / 1073741824)\n",
        "ByteToMB = lambda s: RoundTo1(s/ 1048576)\n",
        "ByteToKB = lambda s: RoundTo1(s/ 1024)\n",
        "\n",
        "def RoundTo1(n) :\n",
        "  if n < 1 and (n-0.9765625) >= 0 :\n",
        "    return 1\n",
        "  else: \n",
        "    return n\n",
        "\n",
        "def data_str(byte_val):\n",
        "  size_gb = ByteToGB(byte_val)\n",
        "  if (size_gb >= 1) :\n",
        "    return \"{:.1f} GB\".format(size_gb)\n",
        "  else:\n",
        "    size_mb = ByteToMB(byte_val)\n",
        "    return \"{:.1f} MB\".format(size_mb)\n",
        "\n",
        "def speed_str(byte_val):\n",
        "  size_mb = ByteToMB(byte_val)\n",
        "  if (size_mb >= 1) :\n",
        "    return \"{:.1f} MB\".format(size_mb)\n",
        "  else:\n",
        "    return \"{:.1f} KB\".format(ByteToKB(byte_val))\n"
      ]
    },
    {
      "cell_type": "markdown",
      "metadata": {
        "id": "uE2KJ6ADS3VK"
      },
      "source": [
        "###Mount drive"
      ]
    },
    {
      "cell_type": "code",
      "execution_count": null,
      "metadata": {
        "cellView": "form",
        "id": "X-rr26MmkDE6"
      },
      "outputs": [],
      "source": [
        "#@markdown\n",
        "\n",
        "from google.colab import drive\n",
        "drive.mount('/content/drive')"
      ]
    },
    {
      "cell_type": "markdown",
      "metadata": {
        "id": "-niGR4b7S9TV"
      },
      "source": [
        "###Add torrent file"
      ]
    },
    {
      "cell_type": "code",
      "execution_count": null,
      "metadata": {
        "cellView": "form",
        "id": "9SdZSEQSkM3h"
      },
      "outputs": [],
      "source": [
        "#@markdown\n",
        "\n",
        "from google.colab import files\n",
        "\n",
        "source = files.upload()\n",
        "params = {\n",
        "    \"save_path\": \"/content/drive/My Drive/Library/Downloads\",\n",
        "    \"ti\": lt.torrent_info(list(source.keys())[0]),\n",
        "}\n",
        "downloads.append(ses.add_torrent(params))"
      ]
    },
    {
      "cell_type": "markdown",
      "metadata": {
        "id": "M7uyOw8GTETM"
      },
      "source": [
        "###Add multi torrent magnet"
      ]
    },
    {
      "cell_type": "code",
      "execution_count": null,
      "metadata": {
        "cellView": "form",
        "id": "_PROFBfIkSCB"
      },
      "outputs": [],
      "source": [
        "#@markdown \n",
        "import time\n",
        "savepath = \"/content/drive/My Drive/Library/Downloads\"\n",
        "params = {\"save_path\": savepath}\n",
        "magnet_link = \"\"\n",
        "handle=\"\"\n",
        "\n",
        "while True:\n",
        "    magnet_link = input(\"Enter Magnet Link Or Type e: \")\n",
        "    if magnet_link.lower() == \"e\":\n",
        "        break\n",
        "    handle = lt.add_magnet_uri(ses, magnet_link, params)\n",
        "    handle.stop_when_ready(True)\n",
        "    downloads.append(\n",
        "        handle\n",
        "    )\n",
        "\n",
        "print(\"Save path: \"+savepath)"
      ]
    },
    {
      "cell_type": "markdown",
      "metadata": {
        "id": "rHof6hp-kirX"
      },
      "source": [
        "###Download metadata multi torrent\n"
      ]
    },
    {
      "cell_type": "code",
      "execution_count": null,
      "metadata": {
        "cellView": "form",
        "id": "glfxaCUJkvgl"
      },
      "outputs": [],
      "source": [
        "#@markdown \n",
        "checks=[]\n",
        "for h in downloads:\n",
        "  h.resume()\n",
        "  checks.append(h)\n",
        "\n",
        "while (checks):\n",
        "  for h in checks:\n",
        "    if h.has_metadata():\n",
        "      checks.remove(h)\n",
        "\n",
        "ses.pause()"
      ]
    },
    {
      "cell_type": "markdown",
      "metadata": {
        "id": "goFYWme2kXF7"
      },
      "source": [
        "###List all files multi download"
      ]
    },
    {
      "cell_type": "code",
      "execution_count": null,
      "metadata": {
        "cellView": "form",
        "id": "Kis3W6ZKiFas"
      },
      "outputs": [],
      "source": [
        "#@markdown \n",
        "\n",
        "total_download=0\n",
        "\n",
        "print(\"All files:\")\n",
        "\n",
        "for h in downloads:\n",
        "  print(\"\")\n",
        "  print(\"  \"+h.name())\n",
        "  if(h.has_metadata()):\n",
        "    \n",
        "    torinfo = handle.get_torrent_info()\n",
        "    files = torinfo.files()\n",
        "\n",
        "    file_sizes = torinfo.total_size()\n",
        "    total_download += file_sizes\n",
        "\n",
        "    size_str = data_str(file_sizes)\n",
        "\n",
        "    print(\"Total download size: \"+size_str)\n",
        "    print(\"Index Size    Name\")\n",
        "\n",
        "    fi_str=\"\"\n",
        "    for x in range(files.num_files()):\n",
        "      fs_str= data_str(files.file_size(x))\n",
        "      fi_str = \"   {:3d}-  \".format(x) + fs_str\n",
        "\n",
        "      print(fi_str,files.file_name(x))\n",
        "\n",
        "  else:\n",
        "    print(\"    Metadata not recieved yet.\")\n",
        "\n",
        "print(\"\")\n",
        "all_total_str = data_str(total_download)\n",
        "print(\"Total download: \", all_total_str)\n"
      ]
    },
    {
      "cell_type": "markdown",
      "metadata": {
        "id": "8yDx9EyYq_Xg"
      },
      "source": [
        "###Filter multi file"
      ]
    },
    {
      "cell_type": "code",
      "execution_count": null,
      "metadata": {
        "cellView": "form",
        "id": "jpoVPyxYrCXp"
      },
      "outputs": [],
      "source": [
        "#@markdown \n",
        "\n",
        "#@markdown \n",
        "\n",
        "skip_list = ['RARBG.txt',\n",
        "             'RARBG_DO_NOT_MIRROR.exe',\n",
        "             'www.YTS.LT.jpg',\n",
        "             'readme.txt'\n",
        "             ]\n",
        "\n",
        "for h in downloads:\n",
        "  if(h.has_metadata()):\n",
        "    torinfo = h.get_torrent_info()\n",
        "    files = torinfo.files()\n",
        "    for x in range(files.num_files()):\n",
        "      if any(i in files.file_name(x) for i in skip_list):\n",
        "        h.file_priority(x,0)\n"
      ]
    },
    {
      "cell_type": "markdown",
      "metadata": {
        "id": "yg-SXV1HuFn7"
      },
      "source": [
        "###Check multi download files "
      ]
    },
    {
      "cell_type": "code",
      "execution_count": null,
      "metadata": {
        "cellView": "form",
        "id": "_BzidlNjuaFP"
      },
      "outputs": [],
      "source": [
        "#@markdown\n",
        "total_download = 0\n",
        "\n",
        "print(\"Download files:\")\n",
        "for h in downloads:\n",
        "  print(\"\")\n",
        "  print(\"  \"+h.name())\n",
        "\n",
        "  if(h.has_metadata()):\n",
        "    priorities = h.file_priorities()\n",
        "    torinfo = h.get_torrent_info()\n",
        "    files = torinfo.files()\n",
        "\n",
        "    file_sizes = 0\n",
        "    for x in range(files.num_files()):\n",
        "      if (priorities[x]>0):\n",
        "        file_sizes += files.file_size(x)\n",
        "    \n",
        "    total_download+=file_sizes\n",
        "\n",
        "    size_str = data_str(file_sizes)\n",
        "\n",
        "    print(\"   Total download size: \" + size_str)\n",
        "    print(\"   Index Size    Name\")\n",
        "\n",
        "    fi_str=\"\"\n",
        "    for x in range(files.num_files()):\n",
        "      if (priorities[x]>0):\n",
        "        fs_str= data_str(files.file_size(x))\n",
        "        fi_str = \"   {:3d}-  \".format(x) + fs_str\n",
        "\n",
        "      print(fi_str,files.file_name(x))\n",
        "  else:\n",
        "    print(\"    Metadata not recieved yet.\")\n",
        "    \n",
        "print(\"\")\n",
        "all_total_str = data_str(total_download)\n",
        "print(\"Total download: \", all_total_str)"
      ]
    },
    {
      "cell_type": "markdown",
      "metadata": {
        "id": "6JC1LAf7vmn4"
      },
      "source": [
        "###Add single torrent magnet"
      ]
    },
    {
      "cell_type": "code",
      "execution_count": null,
      "metadata": {
        "cellView": "form",
        "id": "tl8FqZr1vT3-"
      },
      "outputs": [],
      "source": [
        "import time\n",
        "\n",
        "ses.resume()\n",
        "\n",
        "savepath = \"/content/drive/My Drive/Library/Downloads\"\n",
        "\n",
        "#@markdown\n",
        "\n",
        "#@markdown\n",
        "\n",
        "#@markdown\n",
        "\n",
        "#@markdown\n",
        "\n",
        "#@markdown Choose part\n",
        "Part = 0 #@param {type:\"slider\", min:0, max:10, step:1}\n",
        "if Part > 0:\n",
        "  savepath+= (\"/p\"+str(Part))\n",
        "\n",
        "params = {\"save_path\": savepath}\n",
        "\n",
        "#@markdown\n",
        "\n",
        "#@markdown Enter magnet link\n",
        "MagnetLink = \"\" #@param {type:\"string\"}\n",
        "\n",
        "handle = lt.add_magnet_uri(ses, MagnetLink, params)\n",
        "downloads.append(\n",
        "    handle\n",
        ")\n",
        "\n",
        "print(\"Save path: \"+savepath)\n",
        "\n",
        "while (not handle.has_metadata()):\n",
        "  time.sleep(0.2)\n",
        "\n",
        "ses.pause () "
      ]
    },
    {
      "cell_type": "markdown",
      "metadata": {
        "id": "fNOH_UYwZE_L"
      },
      "source": [
        "###Sequential download"
      ]
    },
    {
      "cell_type": "code",
      "execution_count": null,
      "metadata": {
        "cellView": "form",
        "id": "2DqR2rCDZK1U"
      },
      "outputs": [],
      "source": [
        "from traitlets.traitlets import SequenceTypes\n",
        "#@markdown \n",
        "\n",
        "SequentialDownload = False #@param{type:\"boolean\"}\n",
        "\n",
        "handle.set_sequential_download(SequentialDownload)  "
      ]
    },
    {
      "cell_type": "markdown",
      "metadata": {
        "id": "NiPE2pexaddg"
      },
      "source": [
        "Check sequential download"
      ]
    },
    {
      "cell_type": "code",
      "execution_count": null,
      "metadata": {
        "cellView": "form",
        "id": "Aq4Bb0Epy2XW"
      },
      "outputs": [],
      "source": [
        "#@markdown \n",
        "\n",
        "#@markdown \n",
        "\n",
        "status = handle.status()\n",
        "print(status.sequential_download)"
      ]
    },
    {
      "cell_type": "markdown",
      "metadata": {
        "id": "CKS6ehEkswXU"
      },
      "source": [
        "###File list single"
      ]
    },
    {
      "cell_type": "code",
      "execution_count": null,
      "metadata": {
        "cellView": "form",
        "id": "bgnujaKus1VF"
      },
      "outputs": [],
      "source": [
        "#@markdown \n",
        "\n",
        "#@markdown \n",
        "\n",
        "\n",
        "torinfo = handle.get_torrent_info()\n",
        "files = torinfo.files()\n",
        "\n",
        "file_sizes = torinfo.total_size()\n",
        "\n",
        "size_str = data_str(file_sizes)\n",
        "\n",
        "print(\"Total download size: \"+size_str)\n",
        "print(\"Index Size    Name\")\n",
        "\n",
        "fi_str=\"\"\n",
        "for x in range(files.num_files()):\n",
        "    fs_str= data_str(files.file_size(x))\n",
        "    fi_str = \"   {:3d}-  \".format(x) + fs_str\n",
        "    print(fi_str,files.file_name(x))"
      ]
    },
    {
      "cell_type": "markdown",
      "metadata": {
        "id": "3-0r9P18lUKJ"
      },
      "source": [
        "###Choose ranges"
      ]
    },
    {
      "cell_type": "code",
      "execution_count": null,
      "metadata": {
        "cellView": "form",
        "id": "dF-uk7N2t3J1"
      },
      "outputs": [],
      "source": [
        "#@markdown Choose files ranges\n",
        "\n",
        "#@markdown \n",
        "\n",
        "Start=0 #@param {type:\"integer\"}\n",
        "End=0 #@param {type:\"integer\"}\n",
        "\n",
        "priorities = handle.file_priorities()\n",
        "\n",
        "for index in range(0,len(priorities)):\n",
        "  if index >= Start and index <= End:\n",
        "    handle.file_priority(index,4)\n",
        "  else:\n",
        "    handle.file_priority(index,0)"
      ]
    },
    {
      "cell_type": "markdown",
      "metadata": {
        "id": "HzmxIhIvN3bD"
      },
      "source": [
        "###Add additional ranges"
      ]
    },
    {
      "cell_type": "code",
      "execution_count": null,
      "metadata": {
        "cellView": "form",
        "id": "bLM-o4u2OAoN"
      },
      "outputs": [],
      "source": [
        "#@markdown \n",
        "\n",
        "SecondRange=False #@param {type:\"boolean\"}\n",
        "Range1_Start=0 #@param {type:\"integer\"}\n",
        "Range1_End=0 #@param {type:\"integer\"}\n",
        "\n",
        "if SecondRange:\n",
        "  for index in range(0,len(priorities)):\n",
        "    if index >= Range1_Start and index <= Range1_End:\n",
        "      handle.file_priority(index,5)\n",
        "\n",
        "#@markdown \n",
        "\n",
        "ThirdRange=False #@param {type:\"boolean\"}\n",
        "Range2_Start=0 #@param {type:\"integer\"}\n",
        "Range2_End=0 #@param {type:\"integer\"}\n",
        "\n",
        "if ThirdRange:\n",
        "  for index in range(0,len(priorities)):\n",
        "    if index >= Range2_Start and index <= Range2_End:\n",
        "      handle.file_priority(index,5)"
      ]
    },
    {
      "cell_type": "markdown",
      "metadata": {
        "id": "91-57F6dfU76"
      },
      "source": [
        "###Choose seasons"
      ]
    },
    {
      "cell_type": "code",
      "execution_count": null,
      "metadata": {
        "cellView": "form",
        "id": "SHdvDWIxfGc8"
      },
      "outputs": [],
      "source": [
        "s_list=[\"S01\",\"S02\",\"S03\",\"S04\",\"S05\",\"S06\",\"S07\",\"S08\",\"S09\",\"S10\",\"S11\",\"S12\"]\n",
        "check_list =[\"False\",\"False\",\"False\",\"False\",\"False\",\"False\",\"False\",\"False\",\"False\",\"False\",\"False\",\"False\"]\n",
        "ok_list = [ ]\n",
        "\n",
        "#@markdown Choose seasons to download:\n",
        "S01=False #@param {type:\"boolean\"}\n",
        "S02=False #@param {type:\"boolean\"}\n",
        "S03=False #@param {type:\"boolean\"}\n",
        "S04=False #@param {type:\"boolean\"}\n",
        "S05=False #@param {type:\"boolean\"}\n",
        "S06=False #@param {type:\"boolean\"}\n",
        "S07=False #@param {type:\"boolean\"}\n",
        "S08=False #@param {type:\"boolean\"}\n",
        "S09=False #@param {type:\"boolean\"}\n",
        "S10=False #@param {type:\"boolean\"}\n",
        "S11=False #@param {type:\"boolean\"}\n",
        "S12=False #@param {type:\"boolean\"}\n",
        "check_list[0]=S01\n",
        "check_list[1]=S02\n",
        "check_list[2]=S03\n",
        "check_list[3]=S04\n",
        "check_list[4]=S05\n",
        "check_list[5]=S06\n",
        "check_list[6]=S07\n",
        "check_list[7]=S08\n",
        "check_list[8]=S09\n",
        "check_list[9]=S10\n",
        "check_list[10]=S11\n",
        "check_list[11]=S12\n",
        "\n",
        "for index, s in enumerate(s_list[:]):\n",
        "  if check_list[index]:\n",
        "    ok_list.append(s)\n",
        "\n",
        "\n",
        "for h in downloads:\n",
        "  if(h.has_metadata()):\n",
        "    torinfo = h.get_torrent_info()\n",
        "    files = torinfo.files()\n",
        "    for x in range(files.num_files()):\n",
        "      if any(i in files.file_name(x) for i in ok_list):\n",
        "        h.file_priority(x,4)\n",
        "      else:\n",
        "        h.file_priority(x,0)\n"
      ]
    },
    {
      "cell_type": "markdown",
      "metadata": {
        "id": "UjmG5yAJJRFO"
      },
      "source": [
        "###Exlude range"
      ]
    },
    {
      "cell_type": "code",
      "execution_count": null,
      "metadata": {
        "cellView": "form",
        "id": "EvRWDFVuJTkT"
      },
      "outputs": [],
      "source": [
        "ExludeRange=False #@param {type:\"boolean\"}\n",
        "Range_Start=0 #@param {type:\"integer\"}\n",
        "Range_End=0 #@param {type:\"integer\"}\n",
        "\n",
        "if ExludeRange:\n",
        "  for index in range(0,len(priorities)):\n",
        "    if index >= Range_Start and index <= Range_End:\n",
        "      handle.file_priority(index,0)"
      ]
    },
    {
      "cell_type": "markdown",
      "metadata": {
        "id": "nFy_YWszwf2T"
      },
      "source": [
        "###Check choosen files"
      ]
    },
    {
      "cell_type": "code",
      "execution_count": null,
      "metadata": {
        "cellView": "form",
        "id": "5wz6Sv6zuNk9"
      },
      "outputs": [],
      "source": [
        "#@markdown \n",
        "\n",
        "#@markdown \n",
        "#1073741824\n",
        "#1048576\n",
        "\n",
        "priorities = handle.file_priorities()\n",
        "torinfo = handle.get_torrent_info()\n",
        "files = torinfo.files()\n",
        "\n",
        "print(\"Files to download:\")\n",
        "\n",
        "file_sizes = 0\n",
        "for x in range(files.num_files()):\n",
        "  if (priorities[x]>0):\n",
        "    file_sizes += files.file_size(x)\n",
        "\n",
        "size_str = data_str(file_sizes)\n",
        "\n",
        "print(\"Total download size: \"+size_str)\n",
        "print(\"Index Size    Name\")\n",
        "\n",
        "fi_str=\"\"\n",
        "for x in range(files.num_files()):\n",
        "  if (priorities[x]>0):\n",
        "    fs_str= data_str(files.file_size(x))\n",
        "    fi_str = \"   {:3d}-  \".format(x) + fs_str\n",
        "    print(fi_str,files.file_name(x))"
      ]
    },
    {
      "cell_type": "markdown",
      "metadata": {
        "id": "9-WthKG9qQHx"
      },
      "source": [
        "###Force Recheck"
      ]
    },
    {
      "cell_type": "code",
      "execution_count": null,
      "metadata": {
        "cellView": "form",
        "id": "l1bTAvfvqS_g"
      },
      "outputs": [],
      "source": [
        "#@markdown \n",
        "\n",
        "#@markdown \n",
        "\n",
        "handle.force_recheck()"
      ]
    },
    {
      "cell_type": "markdown",
      "metadata": {
        "id": "jED-YRowfqtW"
      },
      "source": [
        "###Add trackers"
      ]
    },
    {
      "cell_type": "code",
      "execution_count": null,
      "metadata": {
        "cellView": "form",
        "id": "oSqs_1qBfunL"
      },
      "outputs": [],
      "source": [
        "#@markdown \n",
        "\n",
        "#@markdown \n",
        "\n",
        "new_trackers = [\"udp://tracker.opentrackr.org:1337/announce\"\n",
        ",\"udp://tracker.internetwarriors.net:1337/announce\"\n",
        ",\"udp://exodus.desync.com:6969/announce\"\n",
        ",\"udp://tracker.cyberia.is:6969/announce\"\n",
        ",\"udp://3rt.tace.ru:60889/announce\"\n",
        ",\"http://5rt.tace.ru:60889/announce\"\n",
        ",\"udp://explodie.org:6969/announce\"\n",
        ",\"udp://47.ip-51-68-199.eu:6969/announce\"\n",
        ",\"udp://opentracker.i2p.rocks:6969/announce\"\n",
        ",\"http://open.acgnxtracker.com:80/announce\"\n",
        ",\"udp://www.torrent.eu.org:451/announce\"\n",
        ",\"udp://tracker.torrent.eu.org:451/announce\"\n",
        ",\"udp://tracker.tiny-vps.com:6969/announce\"\n",
        ",\"udp://tracker.ds.is:6969/announce\"\n",
        ",\"udp://retracker.lanta-net.ru:2710/announce\"\n",
        ",\"udp://open.stealth.si:80/announce\"\n",
        ",\"udp://tracker.moeking.me:6969/announce\"\n",
        ",\"udp://ipv4.tracker.harry.lu:80/announce\"\n",
        ",\"http://tracker.dler.org:6969/announce\"\n",
        ",\"http://rt.tace.ru:80/announce\"\n",
        ",\"udp://93.158.213.92:1337/announce\"\n",
        ",\"udp://138.255.103.83:1337/announce\"\n",
        ",\"udp://208.83.20.20:6969/announce\"\n",
        ",\"udp://193.218.118.220:6969/announce\"\n",
        ",\"udp://79.111.118.59:60889/announce\"\n",
        ",\"http://93.157.234.32:60889/announce\"\n",
        ",\"udp://184.105.151.164:6969/announce\"\n",
        ",\"udp://51.68.199.47:6969/announce\"\n",
        ",\"udp://51.81.46.170:6969/announce\"\n",
        ",\"udp://91.216.110.52:451/announce\"\n",
        ",\"udp://89.234.156.205:451/announce\"\n",
        ",\"udp://5.206.60.196:6969/announce\"\n",
        ",\"udp://5.226.148.20:6969/announce\"\n",
        ",\"udp://37.235.174.46:2710/announce\"\n",
        ",\"udp://185.181.60.67:80/announce\"\n",
        ",\"udp://138.201.150.56:6969/announce\"\n",
        ",\"udp://51.15.40.114:80/announce\"\n",
        ",\"http://168.119.237.9:6969/announce\"\n",
        ",\"http://195.201.31.194:80/announce\"\n",
        ",\"https://trakx.herokuapp.com:443/announce\"\n",
        ",\"https://w.wwwww.wtf:443/announce\"\n",
        ",\"https://tracker.tamersunion.org:443/announce\"\n",
        ",\"https://tracker.sloppyta.co:443/announce\"\n",
        ",\"https://tracker.renfei.net:443/announce\"\n",
        ",\"https://tracker.nitrix.me:443/announce\"\n",
        ",\"https://tracker.nanoha.org:443/announce\"\n",
        ",\"https://tracker.lelux.fi:443/announce\"\n",
        ",\"https://tracker.imgoingto.icu:443/announce\"\n",
        ",\"https://tracker.hama3.net:443/announce\"\n",
        ",\"https://tracker.foreverpirates.co:443/announce\"\n",
        ",\"http://tracker2.wasabii.com.tw:6969/announce\"\n",
        ",\"udp://tracker.sktorrent.net:6969/announce\"\n",
        ",\"http://www.wareztorrent.com:80/announce\"\n",
        ",\"udp://bt.xxx-tracker.com:2710/announce\"\n",
        ",\"udp://tracker.eddie4.nl:6969/announce\"\n",
        ",\"udp://tracker.grepler.com:6969/announce\"\n",
        ",\"udp://tracker.mg64.net:2710/announce\"\n",
        ",\"udp://wambo.club:1337/announce\"\n",
        ",\"udp://tracker.dutchtracking.com:6969/announce\"\n",
        ",\"udp://tc.animereactor.ru:8082/announce\"\n",
        ",\"udp://tracker.justseed.it:1337/announce\"\n",
        ",\"udp://tracker.leechers-paradise.org:6969/announce\"\n",
        ",\"https://open.kickasstracker.com:443/announce\"\n",
        ",\"udp://tracker.coppersurfer.tk:6969/announce\"\n",
        ",\"http://87.253.152.137/announce\"\n",
        ",\"http://91.216.110.47/announce\"\n",
        ",\"http://91.217.91.21:3218/announce\"\n",
        ",\"http://91.218.230.81:6969/announce\"\n",
        ",\"http://93.92.64.5/announce\"\n",
        ",\"http://atrack.pow7.com/announce\"\n",
        ",\"http://bt.henbt.com:2710/announce\"\n",
        ",\"http://bt.pusacg.org:8080/announce\"\n",
        ",\"https://tracker.bt-hash.com:443/announce\"\n",
        ",\"udp://tracker.leechers-paradise.org:6969\"\n",
        ",\"https://182.176.139.129:6969/announce\"\n",
        ",\"udp://zephir.monocul.us:6969/announce\"\n",
        ",\"https://tracker.dutchtracking.com:80/announce\"\n",
        ",\"https://grifon.info:80/announce\"\n",
        ",\"udp://tracker.kicks-ass.net:80/announce\"\n",
        ",\"udp://p4p.arenabg.com:1337/announce\"\n",
        ",\"udp://tracker.aletorrenty.pl:2710/announce\"\n",
        ",\"https://tracker.parrotsec.org:443/announce\"\n",
        ",\"https://tracker.moxing.party:6969/announce\"\n",
        ",\"https://tracker.ipv6tracker.ru:80/announce\"\n",
        ",\"https://tracker.fastdownload.xyz:443/announce\"\n",
        ",\"https://gwp2-v19.rinet.ru:80/announce\"\n",
        ",\"https://tr.kxmp.cf:80/announce\"\n",
        ",\"https://explodie.org:6969/announce\"]\n",
        "\n"
      ]
    },
    {
      "cell_type": "markdown",
      "metadata": {
        "id": "ratYBtpexGSc"
      },
      "source": [
        "###Add tracker single"
      ]
    },
    {
      "cell_type": "code",
      "execution_count": null,
      "metadata": {
        "cellView": "form",
        "id": "qtA1A6CsxFTg"
      },
      "outputs": [],
      "source": [
        "#@markdown \n",
        "\n",
        "#@markdown \n",
        "\n",
        "trackers = handle.trackers()\n",
        "\n",
        "next_tier = trackers[len(trackers)-1]['tier']\n",
        "\n",
        "for x in range(len(new_trackers)):\n",
        "  annouce_entry = {'url': new_trackers[x], 'tier': next_tier}\n",
        "  handle.add_tracker(annouce_entry) "
      ]
    },
    {
      "cell_type": "markdown",
      "metadata": {
        "id": "YACOjgUmwbKw"
      },
      "source": [
        "###Add trackers multi"
      ]
    },
    {
      "cell_type": "code",
      "execution_count": null,
      "metadata": {
        "cellView": "form",
        "id": "JDhjhvxRwfHE"
      },
      "outputs": [],
      "source": [
        "#@markdown \n",
        "\n",
        "#@markdown \n",
        "\n",
        "for h in downloads:\n",
        "  trackers = h.trackers()\n",
        "\n",
        "  next_tier = trackers[len(trackers)-1]['tier']\n",
        "\n",
        "  for x in range(len(new_trackers)):\n",
        "    annouce_entry = {'url': new_trackers[x], 'tier': next_tier}\n",
        "    h.add_tracker(annouce_entry) "
      ]
    },
    {
      "cell_type": "markdown",
      "metadata": {
        "id": "7HymI5VSih44"
      },
      "source": [
        "###List trackers"
      ]
    },
    {
      "cell_type": "code",
      "execution_count": null,
      "metadata": {
        "cellView": "form",
        "id": "0E-DFcLHilFJ"
      },
      "outputs": [],
      "source": [
        "#@markdown \n",
        "\n",
        "#@markdown \n",
        "\n",
        "trackers = handle.trackers()\n",
        "print(\"Trackers count \",len(trackers))\n",
        "\n",
        "trackers = handle.trackers()\n",
        "print(\"Trackers count \",len(trackers))\n",
        "\n",
        "for x in trackers:\n",
        "  #print(x)\n",
        "  print(x['url'], x['tier'])"
      ]
    },
    {
      "cell_type": "markdown",
      "metadata": {
        "id": "exS1557dTHRP"
      },
      "source": [
        "###Start Torrent"
      ]
    },
    {
      "cell_type": "code",
      "execution_count": null,
      "metadata": {
        "cellView": "form",
        "id": "33_Y7nsskXeF"
      },
      "outputs": [],
      "source": [
        "#@markdown \n",
        "\n",
        "#@markdown \n",
        "\n",
        "import time\n",
        "from IPython.display import display\n",
        "import ipywidgets as widgets\n",
        "\n",
        "\n",
        "state_str = [\n",
        "    \"queued\",\n",
        "    \"checking\",\n",
        "    \"downloading metadata\",\n",
        "    \"downloading\",\n",
        "    \"finished\",\n",
        "    \"seeding\",\n",
        "    \"allocating\",\n",
        "    \"checking fastresume\",\n",
        "]\n",
        "\n",
        "ses.resume()\n",
        "\n",
        "for x in downloads:\n",
        "  x.resume()\n",
        "  \n",
        "session_state = \"\"\n",
        "if ses.is_paused() :\n",
        "  session_state = \"SESSION IS PAUSED\"\n",
        "else:\n",
        "  session_state = \"SESSION IS RUNNING\"\n",
        "\n",
        "print(\"            \" + session_state)\n",
        "\n",
        "layout = {'width':'auto', 'margin-left':'50px'}\n",
        "style = {\"description_width\": \"initial\"}\n",
        "download_bars = [\n",
        "    widgets.FloatSlider(\n",
        "        step=0.01, disabled=True, layout=layout, style=style\n",
        "    )\n",
        "    for _ in downloads\n",
        "]\n",
        "display(*download_bars)\n",
        "\n",
        "while downloads:\n",
        "    next_shift = 0\n",
        "    for index, download in enumerate(downloads[:]):\n",
        "        bar = download_bars[index + next_shift]\n",
        "        if not download.is_finished():\n",
        "            s = download.status()\n",
        "            rate = \"\"\n",
        "            rateMB = round(s.download_rate / 1000000, 2)\n",
        "            if rateMB >= 1:\n",
        "              rate= \"{:.2f} MB\".format(rateMB)\n",
        "            else:\n",
        "              rate = '{:3d} KB'.format (round(s.download_rate / 1000))\n",
        "\n",
        "            bar.description = \" \".join(\n",
        "                [\n",
        "            download.name()+\"         \",\n",
        "                    str(),\n",
        "                    rate,\n",
        "                    state_str[s.state],\n",
        "                ]\n",
        "            )\n",
        "            bar.value = round(s.progress * 100,1)\n",
        "        else:\n",
        "            next_shift -= 1\n",
        "            ses.remove_torrent(download)\n",
        "            downloads.remove(download)\n",
        "            download_bars.remove(bar)\n",
        "            bar.value = 100\n",
        "            print(download.name(), \"complete\")\n",
        "    time.sleep(1)"
      ]
    },
    {
      "cell_type": "markdown",
      "metadata": {
        "id": "QI1xqsvyJiC9"
      },
      "source": [
        "###Check status"
      ]
    },
    {
      "cell_type": "code",
      "execution_count": null,
      "metadata": {
        "cellView": "form",
        "id": "O84Nvoqgvxz0"
      },
      "outputs": [],
      "source": [
        "#@markdown \n",
        "\n",
        "#@markdown \n",
        "\n",
        "from IPython.display import display\n",
        "import ipywidgets as widgets\n",
        "\n",
        "session_state = \"\"\n",
        "if ses.is_paused() :\n",
        "  session_state = \"SESSION IS PAUSED\"\n",
        "else:\n",
        "  session_state = \"SESSION IS RUNNING\"\n",
        "\n",
        "print(\"            \" + session_state)\n",
        "\n",
        "state_str = [\n",
        "    \"queued\",\n",
        "    \"checking\",\n",
        "    \"downloading metadata\",\n",
        "    \"downloading\",\n",
        "    \"finished\",\n",
        "    \"seeding\",\n",
        "    \"allocating\",\n",
        "    \"checking fastresume\",\n",
        "]\n",
        "\n",
        "layout = {'width':'auto', 'margin-left':'50px'}\n",
        "style = {\"description_width\": \"initial\"}\n",
        "download_bars = [\n",
        "    widgets.FloatSlider(\n",
        "        step=0.01, disabled=True, layout=layout, style=style\n",
        "    )\n",
        "    for _ in downloads\n",
        "]\n",
        "display(*download_bars)\n",
        "\n",
        "for index, download in enumerate(downloads[:]):\n",
        "    bar = download_bars[index]\n",
        "    s = download.status()\n",
        "    state = \"\"\n",
        "    if s.paused == True:\n",
        "      state = \"PAUSED\"\n",
        "    else:\n",
        "      state = \"RUNNING\"\n",
        "    bar.description = \" \".join(\n",
        "        [\n",
        "            download.name(),\n",
        "            str(round(s.download_rate / 1000000, 2)),\n",
        "            \"MB/s\",\n",
        "            state,\n",
        "            state_str[s.state]\n",
        "\n",
        "        ]\n",
        "    )\n",
        "    bar.value = round(s.progress * 100,1)\n",
        "\n",
        "\n"
      ]
    },
    {
      "cell_type": "markdown",
      "metadata": {
        "id": "OBizl_Ozn7fZ"
      },
      "source": [
        "###Pause session"
      ]
    },
    {
      "cell_type": "code",
      "execution_count": null,
      "metadata": {
        "cellView": "form",
        "id": "DjmajuZkn1Gm"
      },
      "outputs": [],
      "source": [
        "#@markdown \n",
        "\n",
        "#@markdown \n",
        "\n",
        "for h in downloads:\n",
        "  h.pause()\n",
        "  \n",
        "ses.pause()"
      ]
    },
    {
      "cell_type": "markdown",
      "metadata": {
        "id": "R7tOt6_RlmWq"
      },
      "source": [
        "###Clear downloads"
      ]
    },
    {
      "cell_type": "code",
      "execution_count": null,
      "metadata": {
        "cellView": "form",
        "id": "hSYwuqx9lp1_"
      },
      "outputs": [],
      "source": [
        "#@markdown \n",
        "\n",
        "#@markdown \n",
        "\n",
        "for download in downloads:\n",
        "  ses.remove_torrent(download, 0)\n",
        "\n",
        "downloads.clear()"
      ]
    }
  ],
  "metadata": {
    "colab": {
      "collapsed_sections": [],
      "include_colab_link": true,
      "name": "TD0",
      "provenance": []
    },
    "gpuClass": "standard",
    "kernelspec": {
      "display_name": "Python 3",
      "name": "python3"
    },
    "language_info": {
      "name": "python"
    }
  },
  "nbformat": 4,
  "nbformat_minor": 0
}
